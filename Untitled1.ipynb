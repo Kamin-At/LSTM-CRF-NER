{
 "cells": [
  {
   "cell_type": "code",
   "execution_count": 2,
   "metadata": {},
   "outputs": [],
   "source": [
    "import os\n",
    "import random"
   ]
  },
  {
   "cell_type": "code",
   "execution_count": 10,
   "metadata": {},
   "outputs": [],
   "source": [
    "os.getcwd()\n",
    "os.chdir('..')"
   ]
  },
  {
   "cell_type": "code",
   "execution_count": 15,
   "metadata": {},
   "outputs": [
    {
     "name": "stdout",
     "output_type": "stream",
     "text": [
      "[(20930, 5280), (21155, 5279)]\n"
     ]
    }
   ],
   "source": [
    "cnt = []\n",
    "for i in range(2,4):\n",
    "    with open('clean84withpos_ne.txt', 'r', encoding='utf8') as f1:\n",
    "        with open('label84withpos_ne.txt', 'r', encoding='utf8') as f2:\n",
    "            with open('pos_tag84withpos_ne.txt', 'r', encoding='utf8') as f3:\n",
    "                with open('clean_small_tr' + str(i) + '.txt', 'w', encoding='utf8') as o1:\n",
    "                    with open('label_small_tr' + str(i) + '.txt', 'w', encoding='utf8') as o2:\n",
    "                        with open('pos_small_tr' + str(i) + '.txt', 'w', encoding='utf8') as o3:\n",
    "                            with open('clean_small_te' + str(i) + '.txt', 'w', encoding='utf8') as o4:\n",
    "                                with open('label_small_te' + str(i) + '.txt', 'w', encoding='utf8') as o5:\n",
    "                                    with open('pos_small_te' + str(i) + '.txt', 'w', encoding='utf8') as o6:\n",
    "                                        cnt_tr = 0\n",
    "                                        cnt_te = 0\n",
    "                                        for line in f1:\n",
    "                                            line = line.strip()\n",
    "                                            line2 = f2.readline().strip()\n",
    "                                            line3 = f3.readline().strip()\n",
    "                                            \n",
    "                                            if random.uniform(0,1) > 0.4:\n",
    "                                                continue\n",
    "                                            if len(line.split('|')) != len(line2.split('|')) or len(line3.split('|')) != len(line2.split('|')):\n",
    "                                                print(len(line.split('|')))\n",
    "                                                print(len(line2.split('|')))\n",
    "                                                print(len(line3.split('|')))\n",
    "                                                print('-------')\n",
    "                                            if random.uniform(0,1) > 0.2:\n",
    "                                                o1.write(line+'\\n')\n",
    "                                                o2.write(line2+'\\n')\n",
    "                                                o3.write(line3+'\\n')\n",
    "                                                cnt_tr += 1\n",
    "                                            else:\n",
    "                                                o4.write(line+'\\n')\n",
    "                                                o5.write(line2+'\\n')\n",
    "                                                o6.write(line3+'\\n')\n",
    "                                                cnt_te += 1\n",
    "                                        cnt.append((cnt_tr,cnt_te))\n",
    "print(cnt)"
   ]
  },
  {
   "cell_type": "code",
   "execution_count": null,
   "metadata": {},
   "outputs": [],
   "source": []
  }
 ],
 "metadata": {
  "kernelspec": {
   "display_name": "allennlp2",
   "language": "python",
   "name": "allennlp2"
  },
  "language_info": {
   "codemirror_mode": {
    "name": "ipython",
    "version": 3
   },
   "file_extension": ".py",
   "mimetype": "text/x-python",
   "name": "python",
   "nbconvert_exporter": "python",
   "pygments_lexer": "ipython3",
   "version": "3.6.9"
  }
 },
 "nbformat": 4,
 "nbformat_minor": 2
}
