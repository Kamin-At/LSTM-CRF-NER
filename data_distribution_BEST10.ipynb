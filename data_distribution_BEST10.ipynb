{
 "cells": [
  {
   "cell_type": "code",
   "execution_count": 12,
   "metadata": {},
   "outputs": [],
   "source": [
    "import os\n",
    "import numpy as np\n",
    "import matplotlib.pyplot as plt\n",
    "from pythainlp.tag import pos_tag\n",
    "import random"
   ]
  },
  {
   "cell_type": "code",
   "execution_count": 48,
   "metadata": {},
   "outputs": [
    {
     "data": {
      "text/plain": [
       "[('ฉัน', 'PPRS'),\n",
       " ('กิน', 'VACT'),\n",
       " ('ข้าว', 'NCMN'),\n",
       " ('ปลา', 'NCMN'),\n",
       " ('อาหาร', 'NCMN')]"
      ]
     },
     "execution_count": 48,
     "metadata": {},
     "output_type": "execute_result"
    }
   ],
   "source": [
    "a = ['ฉัน','กิน','ข้าว', 'ปลา', 'อาหาร']\n",
    "pos_tag(a,engine='unigram')"
   ]
  },
  {
   "cell_type": "code",
   "execution_count": 31,
   "metadata": {},
   "outputs": [
    {
     "name": "stdout",
     "output_type": "stream",
     "text": [
      "0\n",
      "4000\n",
      "8000\n",
      "12000\n",
      "16000\n",
      "20000\n",
      "24000\n",
      "28000\n",
      "32000\n",
      "36000\n",
      "40000\n",
      "44000\n",
      "48000\n",
      "52000\n",
      "56000\n",
      "60000\n",
      "64000\n",
      "68000\n",
      "72000\n",
      "76000\n",
      "80000\n",
      "84000\n",
      "88000\n",
      "92000\n",
      "96000\n",
      "100000\n",
      "104000\n",
      "108000\n",
      "112000\n",
      "116000\n",
      "120000\n",
      "124000\n",
      "128000\n",
      "132000\n",
      "136000\n",
      "140000\n",
      "144000\n",
      "148000\n",
      "152000\n",
      "156000\n",
      "160000\n",
      "164000\n",
      "168000\n",
      "172000\n",
      "176000\n",
      "180000\n",
      "184000\n",
      "188000\n",
      "192000\n",
      "196000\n",
      "200000\n",
      "204000\n",
      "208000\n",
      "212000\n",
      "216000\n",
      "220000\n",
      "224000\n",
      "228000\n",
      "232000\n",
      "236000\n",
      "240000\n",
      "244000\n",
      "248000\n",
      "252000\n",
      "256000\n",
      "260000\n",
      "264000\n",
      "268000\n",
      "272000\n",
      "276000\n",
      "280000\n",
      "284000\n"
     ]
    }
   ],
   "source": [
    "cnt_all = 0\n",
    "cnt_ne_sample = 0\n",
    "dictionary = {}\n",
    "with open('../fasttext.th.vec', 'r', encoding='utf8') as f:\n",
    "    for i in f:\n",
    "        tmp = i.split()\n",
    "        if len(tmp) == 301:\n",
    "            dictionary[tmp[0]] = np.array([float(w) for w in tmp[1:]])\n",
    "\n",
    "oov_list = []\n",
    "length = []\n",
    "cnt_ne = []\n",
    "indataset = []\n",
    "with open('../clean169_no_stopwords.txt', 'r', encoding='utf8') as f1:\n",
    "    with open('../label169_no_stopwords.txt', 'r', encoding='utf8') as f2:\n",
    "        with open('../clean169_no_stopwords_NE.txt', 'w', encoding='utf8') as o1:\n",
    "            with open('../lable169_no_stopwords_NE.txt', 'w', encoding='utf8') as o2:\n",
    "                with open('../clean169_no_stopwords_not_NE.txt', 'w', encoding='utf8') as o3:\n",
    "                    with open('../lable169_no_stopwords_not_NE.txt', 'w', encoding='utf8') as o4:\n",
    "                        for ind, line in enumerate(f1):\n",
    "                            if ind%4000==0:\n",
    "                                print(ind)\n",
    "                            line1 = line.strip()\n",
    "                            line2 = f2.readline().strip()\n",
    "                            cnt_all += 1\n",
    "                            cnt_oov = 0\n",
    "                            if '1' in line2.split('|'):\n",
    "                                tmp_cnt_ne = 0\n",
    "                                for i in line2.split('|'):\n",
    "                                    if i.strip() == '1':\n",
    "                                        tmp_cnt_ne +=1\n",
    "                                cnt_ne.append(tmp_cnt_ne)\n",
    "                                cnt_ne_sample += 1\n",
    "                                o1.write(line1 + '\\n')\n",
    "                                o2.write(line2 + '\\n')\n",
    "                                indataset.append(0)\n",
    "                            else:\n",
    "                                o3.write(line1 + '\\n')\n",
    "                                o4.write(line2 + '\\n')\n",
    "                                indataset.append(1)\n",
    "                            for word in line1.split('|'):\n",
    "                                if word not in dictionary:\n",
    "                                    cnt_oov += 1\n",
    "                            oov_list.append(cnt_oov)\n",
    "                            length.append(len(line1.split('|')))"
   ]
  },
  {
   "cell_type": "code",
   "execution_count": 39,
   "metadata": {},
   "outputs": [
    {
     "name": "stdout",
     "output_type": "stream",
     "text": [
      "130714\n",
      "285268\n"
     ]
    }
   ],
   "source": [
    "print(cnt_ne_sample)\n",
    "print(cnt_all)"
   ]
  },
  {
   "cell_type": "code",
   "execution_count": 32,
   "metadata": {},
   "outputs": [
    {
     "data": {
      "image/png": "[encoded data removed]",
      "text/plain": [
       "<Figure size 432x288 with 1 Axes>"
      ]
     },
     "metadata": {
      "needs_background": "light"
     },
     "output_type": "display_data"
    }
   ],
   "source": [
    "plt.hist(oov_list,100)\n",
    "plt.show()\n",
    "#length = []\n",
    "#indataset = []"
   ]
  },
  {
   "cell_type": "code",
   "execution_count": 33,
   "metadata": {},
   "outputs": [
    {
     "data": {
      "image/png": "[encoded data removed]",
      "text/plain": [
       "<Figure size 432x288 with 1 Axes>"
      ]
     },
     "metadata": {
      "needs_background": "light"
     },
     "output_type": "display_data"
    }
   ],
   "source": [
    "plt.hist(cnt_ne,100)\n",
    "plt.show()"
   ]
  },
  {
   "cell_type": "code",
   "execution_count": 34,
   "metadata": {},
   "outputs": [],
   "source": [
    "length_ne = [length[i] for i in range(len(length)) if indataset[i] == 0]"
   ]
  },
  {
   "cell_type": "code",
   "execution_count": 35,
   "metadata": {},
   "outputs": [
    {
     "data": {
      "text/plain": [
       "130714"
      ]
     },
     "execution_count": 35,
     "metadata": {},
     "output_type": "execute_result"
    }
   ],
   "source": [
    "len(length_ne)"
   ]
  },
  {
   "cell_type": "code",
   "execution_count": 36,
   "metadata": {},
   "outputs": [
    {
     "data": {
      "text/plain": [
       "130714"
      ]
     },
     "execution_count": 36,
     "metadata": {},
     "output_type": "execute_result"
    }
   ],
   "source": [
    "len(cnt_ne)"
   ]
  },
  {
   "cell_type": "code",
   "execution_count": 37,
   "metadata": {},
   "outputs": [],
   "source": [
    "percent_ne = [length_ne[i]/cnt_ne[i] for i in range(len(cnt_ne))]"
   ]
  },
  {
   "cell_type": "code",
   "execution_count": 38,
   "metadata": {},
   "outputs": [
    {
     "data": {
      "image/png": "[encoded data removed]",
      "text/plain": [
       "<Figure size 432x288 with 1 Axes>"
      ]
     },
     "metadata": {
      "needs_background": "light"
     },
     "output_type": "display_data"
    }
   ],
   "source": [
    "plt.hist(percent_ne,100)\n",
    "plt.show()"
   ]
  },
  {
   "cell_type": "code",
   "execution_count": 6,
   "metadata": {},
   "outputs": [
    {
     "data": {
      "image/png": "[encoded data removed]",
      "text/plain": [
       "<Figure size 432x288 with 1 Axes>"
      ]
     },
     "metadata": {
      "needs_background": "light"
     },
     "output_type": "display_data"
    },
    {
     "name": "stdout",
     "output_type": "stream",
     "text": [
      "------------------------\n"
     ]
    },
    {
     "data": {
      "image/png": "[encoded data removed]",
      "text/plain": [
       "<Figure size 432x288 with 1 Axes>"
      ]
     },
     "metadata": {
      "needs_background": "light"
     },
     "output_type": "display_data"
    }
   ],
   "source": [
    "char_len = []\n",
    "word_seq_len = []\n",
    "with open('../clean84withpos.txt', 'r', encoding='utf8') as f:\n",
    "    for i in f:\n",
    "        tmp_word = i.strip().split('|')\n",
    "        word_seq_len.append(len(tmp_word))\n",
    "        for j in tmp_word:\n",
    "            char_len.append(len(j))\n",
    "plt.hist(char_len, 100)\n",
    "plt.show()\n",
    "print('------------------------')\n",
    "plt.hist(word_seq_len, 100)\n",
    "plt.show()"
   ]
  },
  {
   "cell_type": "code",
   "execution_count": 21,
   "metadata": {},
   "outputs": [
    {
     "data": {
      "image/png": "[encoded data removed]",
      "text/plain": [
       "<Figure size 432x288 with 1 Axes>"
      ]
     },
     "metadata": {
      "needs_background": "light"
     },
     "output_type": "display_data"
    },
    {
     "name": "stdout",
     "output_type": "stream",
     "text": [
      "1\n"
     ]
    }
   ],
   "source": [
    "x = [i for i in word_seq_len if i == 84]\n",
    "plt.hist(x,50)\n",
    "plt.show()\n",
    "print(len(x))"
   ]
  },
  {
   "cell_type": "code",
   "execution_count": 20,
   "metadata": {},
   "outputs": [
    {
     "data": {
      "image/png": "[encoded data removed]",
      "text/plain": [
       "<Figure size 432x288 with 1 Axes>"
      ]
     },
     "metadata": {
      "needs_background": "light"
     },
     "output_type": "display_data"
    },
    {
     "name": "stdout",
     "output_type": "stream",
     "text": [
      "0.951347640272336\n"
     ]
    }
   ],
   "source": [
    "x = [i for i in char_len if i <=10]\n",
    "plt.hist(x,50)\n",
    "plt.show()\n",
    "print(len(x)/len(char_len))"
   ]
  },
  {
   "cell_type": "code",
   "execution_count": 6,
   "metadata": {},
   "outputs": [
    {
     "name": "stdout",
     "output_type": "stream",
     "text": [
      "0\n",
      "1000\n",
      "2000\n",
      "3000\n",
      "4000\n",
      "5000\n",
      "6000\n",
      "7000\n",
      "8000\n",
      "9000\n",
      "10000\n",
      "11000\n",
      "12000\n",
      "13000\n",
      "14000\n",
      "15000\n",
      "16000\n",
      "17000\n",
      "18000\n",
      "19000\n",
      "20000\n",
      "21000\n",
      "22000\n",
      "23000\n",
      "24000\n",
      "25000\n",
      "26000\n",
      "27000\n",
      "28000\n",
      "29000\n",
      "30000\n",
      "31000\n",
      "32000\n",
      "33000\n",
      "34000\n",
      "35000\n",
      "36000\n",
      "37000\n",
      "38000\n",
      "39000\n",
      "40000\n",
      "41000\n",
      "42000\n",
      "43000\n",
      "44000\n",
      "45000\n",
      "46000\n",
      "47000\n",
      "48000\n",
      "49000\n",
      "50000\n",
      "51000\n",
      "52000\n",
      "53000\n",
      "54000\n",
      "55000\n",
      "56000\n",
      "57000\n",
      "58000\n",
      "59000\n",
      "60000\n",
      "61000\n",
      "62000\n",
      "63000\n",
      "64000\n",
      "65000\n",
      "66000\n",
      "67000\n",
      "68000\n",
      "69000\n",
      "70000\n",
      "71000\n",
      "72000\n",
      "73000\n",
      "74000\n",
      "75000\n",
      "76000\n",
      "77000\n",
      "78000\n",
      "79000\n",
      "80000\n",
      "81000\n",
      "82000\n",
      "83000\n",
      "84000\n",
      "85000\n",
      "86000\n",
      "87000\n",
      "88000\n",
      "89000\n",
      "90000\n",
      "91000\n",
      "92000\n",
      "93000\n",
      "94000\n",
      "95000\n",
      "96000\n",
      "97000\n",
      "98000\n",
      "99000\n",
      "100000\n",
      "101000\n",
      "102000\n",
      "103000\n",
      "104000\n",
      "105000\n",
      "106000\n",
      "107000\n",
      "108000\n",
      "109000\n",
      "110000\n",
      "111000\n",
      "112000\n",
      "113000\n",
      "114000\n",
      "115000\n",
      "116000\n",
      "117000\n",
      "118000\n",
      "119000\n",
      "120000\n",
      "121000\n",
      "122000\n",
      "123000\n",
      "124000\n",
      "125000\n",
      "126000\n",
      "127000\n",
      "128000\n",
      "129000\n",
      "130000\n",
      "131000\n",
      "132000\n",
      "133000\n",
      "134000\n",
      "135000\n",
      "136000\n",
      "137000\n",
      "138000\n",
      "139000\n",
      "140000\n",
      "141000\n",
      "142000\n",
      "143000\n",
      "length_ne\n",
      "num_ne_samples: 65446\n"
     ]
    },
    {
     "data": {
      "image/png": "[encoded data removed]",
      "text/plain": [
       "<Figure size 432x288 with 1 Axes>"
      ]
     },
     "metadata": {
      "needs_background": "light"
     },
     "output_type": "display_data"
    },
    {
     "name": "stdout",
     "output_type": "stream",
     "text": [
      "----------------------------\n",
      "OOV_ne\n"
     ]
    },
    {
     "data": {
      "image/png": "[encoded data removed]",
      "text/plain": [
       "<Figure size 432x288 with 1 Axes>"
      ]
     },
     "metadata": {
      "needs_background": "light"
     },
     "output_type": "display_data"
    },
    {
     "name": "stdout",
     "output_type": "stream",
     "text": [
      "****************************\n",
      "length_non_ne\n",
      "num_ne_samples: 78313\n"
     ]
    },
    {
     "data": {
      "image/png": "[encoded data removed]",
      "text/plain": [
       "<Figure size 432x288 with 1 Axes>"
      ]
     },
     "metadata": {
      "needs_background": "light"
     },
     "output_type": "display_data"
    },
    {
     "name": "stdout",
     "output_type": "stream",
     "text": [
      "----------------------------\n",
      "OOV_non_ne\n"
     ]
    },
    {
     "data": {
      "image/png": "[encoded data removed]",
      "text/plain": [
       "<Figure size 432x288 with 1 Axes>"
      ]
     },
     "metadata": {
      "needs_background": "light"
     },
     "output_type": "display_data"
    }
   ],
   "source": [
    "cnt_all = 0\n",
    "cnt_ne_sample = 0\n",
    "dictionary = {}\n",
    "with open('../fasttext.th.vec', 'r', encoding='utf8') as f:\n",
    "    for i in f:\n",
    "        tmp = i.split()\n",
    "        if len(tmp) == 301:\n",
    "            dictionary[tmp[0]] = np.array([float(w) for w in tmp[1:]])\n",
    "\n",
    "oov_ne = []\n",
    "oov_non_ne = []\n",
    "length_ne = []\n",
    "length_non_ne = []\n",
    "\n",
    "with open('../label84withpos.txt', 'r', encoding='utf8') as f1:\n",
    "    with open('../clean84withpos.txt', 'r', encoding='utf8') as f2:\n",
    "        with open('../pos_tag84withpos.txt', 'r', encoding='utf8') as f3:\n",
    "            with open('../label84withpos_ne.txt', 'w', encoding='utf8') as o1:\n",
    "                with open('../clean84withpos_ne.txt', 'w', encoding='utf8') as o2:\n",
    "                    with open('../pos_tag84withpos_ne.txt', 'w', encoding='utf8') as o3:\n",
    "                        with open('../label84withpos_non_ne.txt', 'w', encoding='utf8') as o4:\n",
    "                            with open('../clean84withpos_non_ne.txt', 'w', encoding='utf8') as o5:\n",
    "                                with open('../pos_tag84withpos_non_ne.txt', 'w', encoding='utf8') as o6:\n",
    "                                    for ind, line in enumerate(f1):\n",
    "                                        if ind%1000 == 0:\n",
    "                                            print(ind)\n",
    "                                        label = [int(i) for i in line.strip().split('|')]\n",
    "                                        data = f2.readline().strip()\n",
    "                                        words = data.split('|')\n",
    "                                        pos = f3.readline().strip()\n",
    "                                        tmp_oov_cnt = 0\n",
    "                                        for word in words:\n",
    "                                            if word not in dictionary:\n",
    "                                                tmp_oov_cnt += 1\n",
    "                                        if 1 not in label:\n",
    "                                            o4.write(line.strip()+'\\n')\n",
    "                                            o5.write(data+'\\n')\n",
    "                                            o6.write(pos+'\\n')\n",
    "                                            cnt_all += 1\n",
    "                                            oov_non_ne.append(tmp_oov_cnt)\n",
    "                                            length_non_ne.append(len(label))\n",
    "                                        else:\n",
    "                                            o1.write(line.strip()+'\\n')\n",
    "                                            o2.write(data+'\\n')\n",
    "                                            o3.write(pos+'\\n')\n",
    "                                            cnt_ne_sample += 1\n",
    "                                            cnt_all += 1\n",
    "                                            oov_ne.append(tmp_oov_cnt)\n",
    "                                            length_ne.append(len(label))\n",
    "print('length_ne')\n",
    "print(f'num_ne_samples: {len(length_ne)}')\n",
    "plt.hist(length_ne, 100)\n",
    "plt.show()\n",
    "print('----------------------------')\n",
    "print('OOV_ne')\n",
    "plt.hist(oov_ne, 100)\n",
    "plt.show()\n",
    "print('****************************')\n",
    "print('length_non_ne')\n",
    "print(f'num_ne_samples: {len(length_non_ne)}')\n",
    "plt.hist(length_non_ne, 100)\n",
    "plt.show()\n",
    "print('----------------------------')\n",
    "print('OOV_non_ne')\n",
    "plt.hist(oov_non_ne, 100)\n",
    "plt.show()"
   ]
  },
  {
   "cell_type": "code",
   "execution_count": 7,
   "metadata": {},
   "outputs": [
    {
     "data": {
      "image/png": "[encoded data removed]",
      "text/plain": [
       "<Figure size 432x288 with 1 Axes>"
      ]
     },
     "metadata": {
      "needs_background": "light"
     },
     "output_type": "display_data"
    }
   ],
   "source": [
    "oov_ratio = [oov_ne[i]*100/length_ne[i] for i in range(len(oov_ne))]\n",
    "plt.hist(oov_ratio, 50)\n",
    "plt.show()"
   ]
  },
  {
   "cell_type": "code",
   "execution_count": 11,
   "metadata": {},
   "outputs": [
    {
     "data": {
      "text/plain": [
       "0.490007028695413"
      ]
     },
     "execution_count": 11,
     "metadata": {},
     "output_type": "execute_result"
    }
   ],
   "source": [
    "len([i for i in oov_ratio if i>=20])/len(oov_ratio)"
   ]
  },
  {
   "cell_type": "code",
   "execution_count": 13,
   "metadata": {},
   "outputs": [
    {
     "name": "stdout",
     "output_type": "stream",
     "text": [
      "[(52247, 13199), (52370, 13076)]\n"
     ]
    }
   ],
   "source": [
    "num_data = []\n",
    "for i in range(2):\n",
    "    with open('../label84withpos_ne.txt', 'r', encoding='utf8') as f1:\n",
    "        with open('../clean84withpos_ne.txt', 'r', encoding='utf8') as f2:\n",
    "            with open('../pos_tag84withpos_ne.txt', 'r', encoding='utf8') as f3:\n",
    "                with open('../label84withpos_ne_tr'+ str(i) + '.txt', 'w', encoding='utf8') as o1:\n",
    "                    with open('../clean84withpos_ne_tr' + str(i) + '.txt', 'w', encoding='utf8') as o2:\n",
    "                        with open('../pos_tag84withpos_ne_tr'+ str(i) +'.txt', 'w', encoding='utf8') as o3:\n",
    "                            with open('../label84withpos_ne_te'+ str(i) + '.txt', 'w', encoding='utf8') as o4:\n",
    "                                with open('../clean84withpos_ne_te' + str(i) + '.txt', 'w', encoding='utf8') as o5:\n",
    "                                    with open('../pos_tag84withpos_ne_te'+ str(i) +'.txt', 'w', encoding='utf8') as o6:\n",
    "                                        tmp_cnt_tr = 0\n",
    "                                        tmp_cnt_te = 0\n",
    "                                        for line in f1:\n",
    "                                            label = line.strip()\n",
    "                                            data = f2.readline().strip()\n",
    "                                            pos = f3.readline().strip()\n",
    "                                            if random.uniform(0,1) > 0.8:\n",
    "                                                o4.write(label + '\\n')\n",
    "                                                o5.write(data + '\\n')\n",
    "                                                o6.write(pos + '\\n')\n",
    "                                                tmp_cnt_te += 1\n",
    "                                            else:\n",
    "                                                o1.write(label + '\\n')\n",
    "                                                o2.write(data + '\\n')\n",
    "                                                o3.write(pos + '\\n')\n",
    "                                                tmp_cnt_tr += 1\n",
    "                                        num_data.append((tmp_cnt_tr,tmp_cnt_te))\n",
    "print(num_data)"
   ]
  },
  {
   "cell_type": "code",
   "execution_count": null,
   "metadata": {},
   "outputs": [],
   "source": []
  }
 ],
 "metadata": {
  "kernelspec": {
   "display_name": "allennlp2",
   "language": "python",
   "name": "allennlp2"
  },
  "language_info": {
   "codemirror_mode": {
    "name": "ipython",
    "version": 3
   },
   "file_extension": ".py",
   "mimetype": "text/x-python",
   "name": "python",
   "nbconvert_exporter": "python",
   "pygments_lexer": "ipython3",
   "version": "3.6.9"
  }
 },
 "nbformat": 4,
 "nbformat_minor": 2
}
