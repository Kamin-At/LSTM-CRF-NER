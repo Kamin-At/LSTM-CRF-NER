{
 "cells": [
  {
   "cell_type": "code",
   "execution_count": 43,
   "metadata": {},
   "outputs": [],
   "source": [
    "import os\n",
    "import numpy as np\n",
    "import matplotlib.pyplot as plt\n",
    "from pythainlp.tag import pos_tag"
   ]
  },
  {
   "cell_type": "code",
   "execution_count": 48,
   "metadata": {},
   "outputs": [
    {
     "data": {
      "text/plain": [
       "[('ฉัน', 'PPRS'),\n",
       " ('กิน', 'VACT'),\n",
       " ('ข้าว', 'NCMN'),\n",
       " ('ปลา', 'NCMN'),\n",
       " ('อาหาร', 'NCMN')]"
      ]
     },
     "execution_count": 48,
     "metadata": {},
     "output_type": "execute_result"
    }
   ],
   "source": [
    "a = ['ฉัน','กิน','ข้าว', 'ปลา', 'อาหาร']\n",
    "pos_tag(a,engine='unigram')"
   ]
  },
  {
   "cell_type": "code",
   "execution_count": 31,
   "metadata": {},
   "outputs": [
    {
     "name": "stdout",
     "output_type": "stream",
     "text": [
      "0\n",
      "4000\n",
      "8000\n",
      "12000\n",
      "16000\n",
      "20000\n",
      "24000\n",
      "28000\n",
      "32000\n",
      "36000\n",
      "40000\n",
      "44000\n",
      "48000\n",
      "52000\n",
      "56000\n",
      "60000\n",
      "64000\n",
      "68000\n",
      "72000\n",
      "76000\n",
      "80000\n",
      "84000\n",
      "88000\n",
      "92000\n",
      "96000\n",
      "100000\n",
      "104000\n",
      "108000\n",
      "112000\n",
      "116000\n",
      "120000\n",
      "124000\n",
      "128000\n",
      "132000\n",
      "136000\n",
      "140000\n",
      "144000\n",
      "148000\n",
      "152000\n",
      "156000\n",
      "160000\n",
      "164000\n",
      "168000\n",
      "172000\n",
      "176000\n",
      "180000\n",
      "184000\n",
      "188000\n",
      "192000\n",
      "196000\n",
      "200000\n",
      "204000\n",
      "208000\n",
      "212000\n",
      "216000\n",
      "220000\n",
      "224000\n",
      "228000\n",
      "232000\n",
      "236000\n",
      "240000\n",
      "244000\n",
      "248000\n",
      "252000\n",
      "256000\n",
      "260000\n",
      "264000\n",
      "268000\n",
      "272000\n",
      "276000\n",
      "280000\n",
      "284000\n"
     ]
    }
   ],
   "source": [
    "cnt_all = 0\n",
    "cnt_ne_sample = 0\n",
    "dictionary = {}\n",
    "with open('../fasttext.th.vec', 'r', encoding='utf8') as f:\n",
    "    for i in f:\n",
    "        tmp = i.split()\n",
    "        if len(tmp) == 301:\n",
    "            dictionary[tmp[0]] = np.array([float(w) for w in tmp[1:]])\n",
    "\n",
    "oov_list = []\n",
    "length = []\n",
    "cnt_ne = []\n",
    "indataset = []\n",
    "with open('../clean169_no_stopwords.txt', 'r', encoding='utf8') as f1:\n",
    "    with open('../label169_no_stopwords.txt', 'r', encoding='utf8') as f2:\n",
    "        with open('../clean169_no_stopwords_NE.txt', 'w', encoding='utf8') as o1:\n",
    "            with open('../lable169_no_stopwords_NE.txt', 'w', encoding='utf8') as o2:\n",
    "                with open('../clean169_no_stopwords_not_NE.txt', 'w', encoding='utf8') as o3:\n",
    "                    with open('../lable169_no_stopwords_not_NE.txt', 'w', encoding='utf8') as o4:\n",
    "                        for ind, line in enumerate(f1):\n",
    "                            if ind%4000==0:\n",
    "                                print(ind)\n",
    "                            line1 = line.strip()\n",
    "                            line2 = f2.readline().strip()\n",
    "                            cnt_all += 1\n",
    "                            cnt_oov = 0\n",
    "                            if '1' in line2.split('|'):\n",
    "                                tmp_cnt_ne = 0\n",
    "                                for i in line2.split('|'):\n",
    "                                    if i.strip() == '1':\n",
    "                                        tmp_cnt_ne +=1\n",
    "                                cnt_ne.append(tmp_cnt_ne)\n",
    "                                cnt_ne_sample += 1\n",
    "                                o1.write(line1 + '\\n')\n",
    "                                o2.write(line2 + '\\n')\n",
    "                                indataset.append(0)\n",
    "                            else:\n",
    "                                o3.write(line1 + '\\n')\n",
    "                                o4.write(line2 + '\\n')\n",
    "                                indataset.append(1)\n",
    "                            for word in line1.split('|'):\n",
    "                                if word not in dictionary:\n",
    "                                    cnt_oov += 1\n",
    "                            oov_list.append(cnt_oov)\n",
    "                            length.append(len(line1.split('|')))"
   ]
  },
  {
   "cell_type": "code",
   "execution_count": 39,
   "metadata": {},
   "outputs": [
    {
     "name": "stdout",
     "output_type": "stream",
     "text": [
      "130714\n",
      "285268\n"
     ]
    }
   ],
   "source": [
    "print(cnt_ne_sample)\n",
    "print(cnt_all)"
   ]
  },
  {
   "cell_type": "code",
   "execution_count": 32,
   "metadata": {},
   "outputs": [
    {
     "data": {
      "image/png": "[encoded data removed]",
      "text/plain": [
       "<Figure size 432x288 with 1 Axes>"
      ]
     },
     "metadata": {
      "needs_background": "light"
     },
     "output_type": "display_data"
    }
   ],
   "source": [
    "plt.hist(oov_list,100)\n",
    "plt.show()\n",
    "#length = []\n",
    "#indataset = []"
   ]
  },
  {
   "cell_type": "code",
   "execution_count": 33,
   "metadata": {},
   "outputs": [
    {
     "data": {
      "image/png": "[encoded data removed]",
      "text/plain": [
       "<Figure size 432x288 with 1 Axes>"
      ]
     },
     "metadata": {
      "needs_background": "light"
     },
     "output_type": "display_data"
    }
   ],
   "source": [
    "plt.hist(cnt_ne,100)\n",
    "plt.show()"
   ]
  },
  {
   "cell_type": "code",
   "execution_count": 34,
   "metadata": {},
   "outputs": [],
   "source": [
    "length_ne = [length[i] for i in range(len(length)) if indataset[i] == 0]"
   ]
  },
  {
   "cell_type": "code",
   "execution_count": 35,
   "metadata": {},
   "outputs": [
    {
     "data": {
      "text/plain": [
       "130714"
      ]
     },
     "execution_count": 35,
     "metadata": {},
     "output_type": "execute_result"
    }
   ],
   "source": [
    "len(length_ne)"
   ]
  },
  {
   "cell_type": "code",
   "execution_count": 36,
   "metadata": {},
   "outputs": [
    {
     "data": {
      "text/plain": [
       "130714"
      ]
     },
     "execution_count": 36,
     "metadata": {},
     "output_type": "execute_result"
    }
   ],
   "source": [
    "len(cnt_ne)"
   ]
  },
  {
   "cell_type": "code",
   "execution_count": 37,
   "metadata": {},
   "outputs": [],
   "source": [
    "percent_ne = [length_ne[i]/cnt_ne[i] for i in range(len(cnt_ne))]"
   ]
  },
  {
   "cell_type": "code",
   "execution_count": 38,
   "metadata": {},
   "outputs": [
    {
     "data": {
      "image/png": "[encoded data removed]",
      "text/plain": [
       "<Figure size 432x288 with 1 Axes>"
      ]
     },
     "metadata": {
      "needs_background": "light"
     },
     "output_type": "display_data"
    }
   ],
   "source": [
    "plt.hist(percent_ne,100)\n",
    "plt.show()"
   ]
  },
  {
   "cell_type": "code",
   "execution_count": null,
   "metadata": {},
   "outputs": [],
   "source": []
  }
 ],
 "metadata": {
  "kernelspec": {
   "display_name": "allennlp2",
   "language": "python",
   "name": "allennlp2"
  },
  "language_info": {
   "codemirror_mode": {
    "name": "ipython",
    "version": 3
   },
   "file_extension": ".py",
   "mimetype": "text/x-python",
   "name": "python",
   "nbconvert_exporter": "python",
   "pygments_lexer": "ipython3",
   "version": "3.6.9"
  }
 },
 "nbformat": 4,
 "nbformat_minor": 2
}
